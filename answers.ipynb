{
 "cells": [
  {
   "cell_type": "markdown",
   "metadata": {},
   "source": [
    "# Assigment 4: Data Analysis and Visualization\n",
    "\n",
    "Use as many Python and markdown cells per question as you deem necessary. **DO NOT SUBMIT CODE THAT DOES NOT RUN.** You will lose points for code that throws errors. \n",
    "\n",
    "The data you will work with was taken from [Alaskan vegetation plots](https://daac.ornl.gov/ABOVE/guides/Arrigetch_Peaks_Veg_Plots.html) from 1978-1981. The data set is in the `data/` subdirectory in this repo in two .csv files containing information about research plots and the plant species covering the plots. **Please read the descriptions for the data, as they will help you answer the questions.** \n",
    "\n",
    "**Table 1: Data files**\n",
    "| Data File Name |\tDescription |\n",
    "| --- | --- |\n",
    "| Arrigetch_Peaks_Environmental_Data.csv| Environmental characterization data for Arrigetch Peaks research plots |\n",
    "| Arrigetch_Peaks_Species_Data.csv | Species cover data for Arrigetch Peaks research plots|\n",
    "\n",
    "**Table 2. Arrigetch_Peaks_Environmental_Data.csv**\n",
    "| Column Name\t| Units\t| Description |\n",
    "| --- | --- | --- |\n",
    "| TURBOVEG_PLOT_NUMBER\t |\t | TURBOVEG plot number |\n",
    "| PLANT_COMMUNITY_NAME\t|  |\tPrimary vegetation types |\n",
    "| ELEVATION |\tm\t| Elevation of the plots |\n",
    "| ASPECT\t| deg\t| Aspect of the plots |\n",
    "| SLOPE\t| deg\t| Slope of the plots |\n",
    "| COVER_LITTER_LAYER\t| % |\tPercentage of litter layer cover in the plot |\n",
    "|COVER_OPEN_WATER\t| % | \tPercentage of open water cover in the plot |\n",
    "| COVER_ROCK\t| % |\tPercentage of rock cover in the plot |\n",
    "| COVER_CRUST\t| % |\tPercentage of crust cover in the plot |\n",
    "| COVER_BARE_SOIL\t| % |\tPercentage of bare soil cover in the plot|\n",
    "| REMARKS\t |  |\tField notes |\n",
    "\n",
    "**Table 3. Arrigetch_Peaks_Species_Data.csv**\n",
    "| Column Name\t| Units\t| Description |\n",
    "| --- | --- | --- |\n",
    "| TURBOVEG_PLOT_NUMBER\t |\t | TURBOVEG plot number |\n",
    "| species name | | data values are Species Cover Classes: where r (rare), + (common, but less than 1% cover), 1 (1-5 percent), 2 (6 to 25%), 3 (25 to 50%), 4 (51 to 75%), 5 (76 to 100%). |"
   ]
  },
  {
   "cell_type": "markdown",
   "metadata": {},
   "source": [
    "## Question 1: Pandas (15 pt)\n",
    "\n",
    "Load the two data sets into Python with Pandas. Name the environmental data frame `env`, and the species data frame `species`. Display the first few rows of each data frame. What are the dimensions of the two data frames? (2 pt)\n",
    "\n",
    "Replace all values in both data frames that are `-9999` with `np.NaN`. (1 pt)\n",
    "\n",
    "Print how many unique plant community names there are. (1 pt)\n",
    "\n",
    "Print summary statistics for all numerical columns in `env`, excluding `\"TURBOVEG_PLOT_NUMBER\"`. (2 pt)\n",
    "\n",
    "Merge the two data frames together by the column `TURBO_PLOT_NUMBER`. (1 pt)\n",
    "\n",
    "How many rows in the merged data frame contain missing data? (1 pt)\n",
    "\n",
    "Which species was present in the most plots? (3 pt)\n",
    "\n",
    "For all rows in `species`, calculate the sum of all the columns (excluding `\"TURBOVEG_PLOT_NUMBER\"`) for each row. Add this sum as a new column called `\"totals\"`. (2 pt)\n",
    "\n",
    "Read the description included above for the `species` data frame. Are there any inconsistencies between the description and the data? Explain. If there are inconsistences, what would you do to correct them? (2 pt)"
   ]
  },
  {
   "cell_type": "code",
   "execution_count": 2,
   "metadata": {},
   "outputs": [],
   "source": [
    "import pandas as pd\n",
    "import numpy as np"
   ]
  },
  {
   "cell_type": "code",
   "execution_count": 3,
   "metadata": {},
   "outputs": [],
   "source": [
    "file_environment = \"/Users/coopg/GitHub/assignment-4/data/Arrigetch_Peaks_Environmental_Data.csv\"\n",
    "file_species = \"/Users/coopg/GitHub/assignment-4/data/Arrigetch_Peaks_Species_Data.csv\"\n",
    "\n",
    "env = pd.read_csv(file_environment)\n",
    "species = pd.read_csv(file_species)"
   ]
  },
  {
   "cell_type": "code",
   "execution_count": 4,
   "metadata": {},
   "outputs": [],
   "source": [
    "env = env.replace(-9999., np.NaN)\n",
    "species = species.replace(-9999., np.NaN)"
   ]
  },
  {
   "cell_type": "code",
   "execution_count": 5,
   "metadata": {},
   "outputs": [
    {
     "data": {
      "text/plain": [
       "51"
      ]
     },
     "execution_count": 5,
     "metadata": {},
     "output_type": "execute_result"
    }
   ],
   "source": [
    "len(pd.unique(env.PLANT_COMMUNITY_NAME))"
   ]
  },
  {
   "cell_type": "code",
   "execution_count": 6,
   "metadata": {},
   "outputs": [
    {
     "data": {
      "text/html": [
       "<div>\n",
       "<style scoped>\n",
       "    .dataframe tbody tr th:only-of-type {\n",
       "        vertical-align: middle;\n",
       "    }\n",
       "\n",
       "    .dataframe tbody tr th {\n",
       "        vertical-align: top;\n",
       "    }\n",
       "\n",
       "    .dataframe thead th {\n",
       "        text-align: right;\n",
       "    }\n",
       "</style>\n",
       "<table border=\"1\" class=\"dataframe\">\n",
       "  <thead>\n",
       "    <tr style=\"text-align: right;\">\n",
       "      <th></th>\n",
       "      <th>ELEVATION</th>\n",
       "      <th>ASPECT</th>\n",
       "      <th>SLOPE</th>\n",
       "      <th>COVER_LITTER_LAYER</th>\n",
       "      <th>COVER_OPEN_WATER</th>\n",
       "      <th>COVER_ROCK</th>\n",
       "      <th>COVER_CRUST</th>\n",
       "      <th>COVER_BARE_SOIL</th>\n",
       "    </tr>\n",
       "  </thead>\n",
       "  <tbody>\n",
       "    <tr>\n",
       "      <th>count</th>\n",
       "      <td>374.000000</td>\n",
       "      <td>244.000000</td>\n",
       "      <td>147.0</td>\n",
       "      <td>439.000000</td>\n",
       "      <td>439.0</td>\n",
       "      <td>439.000000</td>\n",
       "      <td>439.000000</td>\n",
       "      <td>439.000000</td>\n",
       "    </tr>\n",
       "    <tr>\n",
       "      <th>mean</th>\n",
       "      <td>1111.802139</td>\n",
       "      <td>184.241803</td>\n",
       "      <td>0.0</td>\n",
       "      <td>36.913440</td>\n",
       "      <td>0.0</td>\n",
       "      <td>13.936219</td>\n",
       "      <td>4.341686</td>\n",
       "      <td>14.321185</td>\n",
       "    </tr>\n",
       "    <tr>\n",
       "      <th>std</th>\n",
       "      <td>227.223605</td>\n",
       "      <td>103.151667</td>\n",
       "      <td>0.0</td>\n",
       "      <td>30.059329</td>\n",
       "      <td>0.0</td>\n",
       "      <td>18.166670</td>\n",
       "      <td>12.113122</td>\n",
       "      <td>17.990339</td>\n",
       "    </tr>\n",
       "    <tr>\n",
       "      <th>min</th>\n",
       "      <td>730.000000</td>\n",
       "      <td>0.000000</td>\n",
       "      <td>0.0</td>\n",
       "      <td>0.000000</td>\n",
       "      <td>0.0</td>\n",
       "      <td>0.000000</td>\n",
       "      <td>0.000000</td>\n",
       "      <td>0.000000</td>\n",
       "    </tr>\n",
       "    <tr>\n",
       "      <th>25%</th>\n",
       "      <td>940.000000</td>\n",
       "      <td>135.000000</td>\n",
       "      <td>0.0</td>\n",
       "      <td>8.000000</td>\n",
       "      <td>0.0</td>\n",
       "      <td>1.000000</td>\n",
       "      <td>0.000000</td>\n",
       "      <td>1.000000</td>\n",
       "    </tr>\n",
       "    <tr>\n",
       "      <th>50%</th>\n",
       "      <td>1050.000000</td>\n",
       "      <td>180.000000</td>\n",
       "      <td>0.0</td>\n",
       "      <td>30.000000</td>\n",
       "      <td>0.0</td>\n",
       "      <td>8.000000</td>\n",
       "      <td>0.000000</td>\n",
       "      <td>8.000000</td>\n",
       "    </tr>\n",
       "    <tr>\n",
       "      <th>75%</th>\n",
       "      <td>1270.000000</td>\n",
       "      <td>270.000000</td>\n",
       "      <td>0.0</td>\n",
       "      <td>65.000000</td>\n",
       "      <td>0.0</td>\n",
       "      <td>20.000000</td>\n",
       "      <td>0.000000</td>\n",
       "      <td>20.000000</td>\n",
       "    </tr>\n",
       "    <tr>\n",
       "      <th>max</th>\n",
       "      <td>1920.000000</td>\n",
       "      <td>360.000000</td>\n",
       "      <td>0.0</td>\n",
       "      <td>100.000000</td>\n",
       "      <td>0.0</td>\n",
       "      <td>95.000000</td>\n",
       "      <td>80.000000</td>\n",
       "      <td>85.000000</td>\n",
       "    </tr>\n",
       "  </tbody>\n",
       "</table>\n",
       "</div>"
      ],
      "text/plain": [
       "         ELEVATION      ASPECT  SLOPE  COVER_LITTER_LAYER  COVER_OPEN_WATER  \\\n",
       "count   374.000000  244.000000  147.0          439.000000             439.0   \n",
       "mean   1111.802139  184.241803    0.0           36.913440               0.0   \n",
       "std     227.223605  103.151667    0.0           30.059329               0.0   \n",
       "min     730.000000    0.000000    0.0            0.000000               0.0   \n",
       "25%     940.000000  135.000000    0.0            8.000000               0.0   \n",
       "50%    1050.000000  180.000000    0.0           30.000000               0.0   \n",
       "75%    1270.000000  270.000000    0.0           65.000000               0.0   \n",
       "max    1920.000000  360.000000    0.0          100.000000               0.0   \n",
       "\n",
       "       COVER_ROCK  COVER_CRUST  COVER_BARE_SOIL  \n",
       "count  439.000000   439.000000       439.000000  \n",
       "mean    13.936219     4.341686        14.321185  \n",
       "std     18.166670    12.113122        17.990339  \n",
       "min      0.000000     0.000000         0.000000  \n",
       "25%      1.000000     0.000000         1.000000  \n",
       "50%      8.000000     0.000000         8.000000  \n",
       "75%     20.000000     0.000000        20.000000  \n",
       "max     95.000000    80.000000        85.000000  "
      ]
     },
     "execution_count": 6,
     "metadata": {},
     "output_type": "execute_result"
    }
   ],
   "source": [
    "needed_columns = [\"ELEVATION\",\"ASPECT\",\"SLOPE\",\"COVER_LITTER_LAYER\",\"COVER_OPEN_WATER\",\"COVER_ROCK\",\"COVER_CRUST\",\"COVER_BARE_SOIL\"]\n",
    "\n",
    "env[needed_columns].describe()"
   ]
  },
  {
   "cell_type": "code",
   "execution_count": 50,
   "metadata": {},
   "outputs": [
    {
     "name": "stdout",
     "output_type": "stream",
     "text": [
      "422\n"
     ]
    }
   ],
   "source": [
    "merged_data_frame = pd.merge(left=env, right=species, how='left', left_on='TURBOVEG_PLOT_NUMBER', right_on='TURBOVEG_PLOT_NUMBER')\n",
    "merged_data_frame.loc[merged_data_frame.isnull().any(axis=1),:]\n",
    "print(len(merged_data_frame.loc[merged_data_frame.isnull().any(axis=1),:]))"
   ]
  },
  {
   "cell_type": "code",
   "execution_count": 8,
   "metadata": {},
   "outputs": [
    {
     "name": "stdout",
     "output_type": "stream",
     "text": [
      "Cetraria islandica\n"
     ]
    }
   ],
   "source": [
    "population_by_species = {}\n",
    "\n",
    "for each in species.columns:\n",
    "    if each != 'TURBOVEG_PLOT_NUMBER': # for all species columns\n",
    "       population_by_species[each] = species[each][species[each]>0].shape[0]\n",
    "\n",
    "list_of_species = []\n",
    "for each in population_by_species:\n",
    "    list_of_species.append(each)\n",
    "\n",
    "biggest_species = \"\"\n",
    "biggest_species_population = 0\n",
    "\n",
    "counter = 0\n",
    "for each in population_by_species:\n",
    "    if population_by_species[list_of_species[counter]] > biggest_species_population:\n",
    "        biggest_species_population = population_by_species[list_of_species[counter]]\n",
    "        biggest_species = [list_of_species[counter]]\n",
    "    counter += 1\n",
    "\n",
    "print(biggest_species[0])"
   ]
  },
  {
   "cell_type": "code",
   "execution_count": 9,
   "metadata": {},
   "outputs": [
    {
     "name": "stdout",
     "output_type": "stream",
     "text": [
      "     TURBOVEG_PLOT_NUMBER  Abietinella abietina  Acarospora schleicheri  \\\n",
      "0                   10925                   0.0                     0.0   \n",
      "1                   10926                   0.0                     0.0   \n",
      "2                   10927                   0.0                     0.0   \n",
      "3                   10928                   0.0                     0.0   \n",
      "4                   10929                   0.0                     0.0   \n",
      "..                    ...                   ...                     ...   \n",
      "434                 11359                   0.0                     0.0   \n",
      "435                 11360                   0.0                     0.0   \n",
      "436                 11361                   0.0                     0.0   \n",
      "437                 11362                   0.5                     0.0   \n",
      "438                 11363                   1.0                     0.0   \n",
      "\n",
      "     Aconitum delphinifolium delphinifolium  Alectoria ochroleuca  \\\n",
      "0                                       0.0                   0.0   \n",
      "1                                       0.0                   6.0   \n",
      "2                                       0.0                   0.0   \n",
      "3                                       0.0                   0.0   \n",
      "4                                       0.0                   2.0   \n",
      "..                                      ...                   ...   \n",
      "434                                     0.0                   0.0   \n",
      "435                                     0.0                   0.0   \n",
      "436                                     0.0                   0.0   \n",
      "437                                     0.0                   0.0   \n",
      "438                                     0.0                   0.0   \n",
      "\n",
      "     Parmelia almquistii  Dactylina madreporiformis  Alnus crispa crispa  \\\n",
      "0                    1.0                        0.0                    0   \n",
      "1                    0.0                        0.0                    0   \n",
      "2                    1.0                        0.0                    0   \n",
      "3                    0.0                        0.0                    0   \n",
      "4                    1.0                        0.0                    0   \n",
      "..                   ...                        ...                  ...   \n",
      "434                  0.0                        0.0                    0   \n",
      "435                  0.0                        0.0                    0   \n",
      "436                  0.0                        0.0                    0   \n",
      "437                  0.0                        0.0                    0   \n",
      "438                  0.0                        0.0                    0   \n",
      "\n",
      "     Amphidium mougeotii  Andreaea blyttii  ...  \\\n",
      "0                      0               0.0  ...   \n",
      "1                      0               0.0  ...   \n",
      "2                      0               0.0  ...   \n",
      "3                      0               0.0  ...   \n",
      "4                      0               0.0  ...   \n",
      "..                   ...               ...  ...   \n",
      "434                    0               0.0  ...   \n",
      "435                    0               0.0  ...   \n",
      "436                    0               0.0  ...   \n",
      "437                    0               0.0  ...   \n",
      "438                    0               0.0  ...   \n",
      "\n",
      "     Vaccinium uliginosum microphyllum  Vaccinium uliginosum alpinum  \\\n",
      "0                                    0                           0.0   \n",
      "1                                    0                           0.0   \n",
      "2                                    0                           0.0   \n",
      "3                                    0                           0.0   \n",
      "4                                    0                           0.0   \n",
      "..                                 ...                           ...   \n",
      "434                                  0                           0.0   \n",
      "435                                  0                           0.0   \n",
      "436                                  0                           0.0   \n",
      "437                                  0                           0.0   \n",
      "438                                  0                           0.0   \n",
      "\n",
      "     Vaccinium vitis-idaea minus  Valeriana capitata  Cetraria tilesii  \\\n",
      "0                            0.0                 0.0               0.0   \n",
      "1                            0.0                 0.0               0.0   \n",
      "2                            0.0                 0.0               0.0   \n",
      "3                            0.0                 0.0               0.0   \n",
      "4                            0.0                 0.0               0.0   \n",
      "..                           ...                 ...               ...   \n",
      "434                          0.0                 0.0               0.0   \n",
      "435                          0.0                 0.0               0.0   \n",
      "436                          0.0                 0.0               0.0   \n",
      "437                          0.0                 0.0               0.0   \n",
      "438                          0.0                 0.0               0.0   \n",
      "\n",
      "     Wilhelmsia physodes  Woodsia alpina  Woodsia glabella  Xanthoria elegans  \\\n",
      "0                      0             0.0               0.0                  0   \n",
      "1                      0             0.0               0.0                  0   \n",
      "2                      0             0.0               0.0                  0   \n",
      "3                      0             0.0               0.0                  0   \n",
      "4                      0             0.0               0.0                  0   \n",
      "..                   ...             ...               ...                ...   \n",
      "434                    0             0.0               0.0                  0   \n",
      "435                    0             0.0               0.0                  0   \n",
      "436                    0             0.0               0.0                  0   \n",
      "437                    0             0.0               0.0                  0   \n",
      "438                    0             0.0               0.0                  0   \n",
      "\n",
      "     totals  \n",
      "0      79.5  \n",
      "1     101.0  \n",
      "2     135.5  \n",
      "3      84.0  \n",
      "4      84.5  \n",
      "..      ...  \n",
      "434    79.5  \n",
      "435    80.0  \n",
      "436   125.0  \n",
      "437    91.0  \n",
      "438   126.0  \n",
      "\n",
      "[439 rows x 410 columns]\n"
     ]
    }
   ],
   "source": [
    "myList = [0]\n",
    "counter = 0\n",
    "for each in range(0,439):\n",
    "    for col in species.columns:\n",
    "        if col != \"TURBOVEG_PLOT_NUMBER\":\n",
    "            myList[each] += (species.loc[each,col])\n",
    "            myList.append(0)\n",
    "\n",
    "del myList[439:]\n",
    "\n",
    "species[\"totals\"] = myList\n",
    "print(species)"
   ]
  },
  {
   "cell_type": "code",
   "execution_count": 10,
   "metadata": {},
   "outputs": [
    {
     "name": "stdout",
     "output_type": "stream",
     "text": [
      "25% is counted twice, both in species cover class 2 and 3\n"
     ]
    }
   ],
   "source": [
    "print(\"25% is counted twice, both in species cover class 2 and 3\")"
   ]
  },
  {
   "cell_type": "markdown",
   "metadata": {},
   "source": [
    "## Question 2: Plotting (15 pt)\n",
    "\n",
    "Make a figure showing the relationship between elevation and cover rock percentage. Is there a positive relationship, negative relationship, or no relationship between the two variables? (3 pt)\n",
    "\n",
    "Make a figure showing the distribution of the `\"totals\"` column you created in the `species` data frame. Print summary statistics for this column, as well. (3 pt)\n",
    "\n",
    "Create a subset of `env` containing rows with the plant community names `\"Caricetum scirpoideae-rupestris\"`,`\"Pedicularo kanei-Caricetum glacialis\"`, and `\"Saxifrago tricuspidatae-Artemisietum alaskanae\"`. (2 pt)\n",
    "\n",
    "Create a figure to compare the mean cover bare soil percentage of the plant communities. Describe what the figure tells us-> are there differences among the plant communities in cover bare soil percentage? Which has the highest median value? The lowest? Are there differences in the spread among the communities? (4 pt)\n",
    "\n",
    "For all figures, label your axes descriptively with units. If necessary, create legends. Make your figures large enough to be easily readable, and **make sure that no text is overlapping**. Save all figures, and make sure to commit them (3 pt).\n",
    "\n",
    "\n"
   ]
  },
  {
   "cell_type": "code",
   "execution_count": 11,
   "metadata": {},
   "outputs": [],
   "source": [
    "import matplotlib.pyplot as plt"
   ]
  },
  {
   "cell_type": "code",
   "execution_count": 12,
   "metadata": {},
   "outputs": [
    {
     "data": {
      "image/png": "[encoded data removed]",
      "text/plain": [
       "<Figure size 640x480 with 1 Axes>"
      ]
     },
     "metadata": {},
     "output_type": "display_data"
    },
    {
     "name": "stdout",
     "output_type": "stream",
     "text": [
      "There appears to be no relationship between the two variables\n"
     ]
    }
   ],
   "source": [
    "df_sub = env.loc[(env['ELEVATION']>0) & (env['COVER_ROCK'].notnull()),:].reset_index(drop=True)\n",
    "figure, ax = plt.subplots()\n",
    "ax.scatter(df_sub['ELEVATION'], df_sub['COVER_ROCK'])\n",
    "ax.set_xlabel('Elevation (ft)')\n",
    "ax.set_ylabel('Cover Rock %')\n",
    "plt.show()\n",
    "print(\"There appears to be no relationship between the two variables\")"
   ]
  },
  {
   "cell_type": "code",
   "execution_count": 13,
   "metadata": {},
   "outputs": [
    {
     "data": {
      "image/png": "[encoded data removed]",
      "text/plain": [
       "<Figure size 640x480 with 1 Axes>"
      ]
     },
     "metadata": {},
     "output_type": "display_data"
    },
    {
     "data": {
      "text/plain": [
       "count    439.000000\n",
       "mean     144.146469\n",
       "std       74.729961\n",
       "min       10.000000\n",
       "25%       87.000000\n",
       "50%      132.000000\n",
       "75%      188.250000\n",
       "max      380.500000\n",
       "Name: totals, dtype: float64"
      ]
     },
     "execution_count": 13,
     "metadata": {},
     "output_type": "execute_result"
    }
   ],
   "source": [
    "figure, ax = plt.subplots()\n",
    "ax.hist(species[\"totals\"],bins=20, color=\"purple\", edgecolor='black')\n",
    "ax.set_xlabel('Totals')\n",
    "ax.set_ylabel('Number of species by total')\n",
    "ax.set_title('Distribution of Species Totals')\n",
    "plt.show()\n",
    "\n",
    "species[\"totals\"].describe()"
   ]
  }
 ],
 "metadata": {
  "kernelspec": {
   "display_name": "base",
   "language": "python",
   "name": "python3"
  },
  "language_info": {
   "codemirror_mode": {
    "name": "ipython",
    "version": 3
   },
   "file_extension": ".py",
   "mimetype": "text/x-python",
   "name": "python",
   "nbconvert_exporter": "python",
   "pygments_lexer": "ipython3",
   "version": "3.9.13"
  },
  "orig_nbformat": 4
 },
 "nbformat": 4,
 "nbformat_minor": 2
}
